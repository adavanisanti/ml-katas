{
 "cells": [
  {
   "cell_type": "code",
   "execution_count": 65,
   "metadata": {
    "collapsed": false
   },
   "outputs": [
    {
     "data": {
      "text/plain": [
       "(8143, 7)"
      ]
     },
     "execution_count": 65,
     "metadata": {},
     "output_type": "execute_result"
    }
   ],
   "source": [
    "import pandas as pd\n",
    "\n",
    "data = pd.read_csv(\"/Users/drufener/kata-occupancy/datatraining.txt\")\n",
    "# data = pd.concat([data, pd.read_csv(\"/Users/drufener/kata-occupancy/datatest.txt\")])\n",
    "# data = pd.concat([data, pd.read_csv(\"/Users/drufener/kata-occupancy/datatest2.txt\")])\n",
    "data.shape"
   ]
  },
  {
   "cell_type": "code",
   "execution_count": 92,
   "metadata": {
    "collapsed": false
   },
   "outputs": [],
   "source": [
    "y = data[\"Occupancy\"]\n",
    "X = data.drop([\"date\", \"Occupancy\"], axis=1)\n",
    "# X.head()\n",
    "times = data[\"date\"]\n",
    "times = pd.to_datetime(times)\n",
    "# X['hour'] = times.apply(lambda t: t.hour)\n",
    "# X['dow'] = times.apply(lambda t: t.weekday())"
   ]
  },
  {
   "cell_type": "code",
   "execution_count": 76,
   "metadata": {
    "collapsed": false
   },
   "outputs": [],
   "source": [
    "\n"
   ]
  },
  {
   "cell_type": "code",
   "execution_count": 91,
   "metadata": {
    "collapsed": false
   },
   "outputs": [
    {
     "name": "stdout",
     "output_type": "stream",
     "text": [
      "0.99386201224\n"
     ]
    },
    {
     "data": {
      "text/plain": [
       "array([ 0.99018405,  0.92147239,  0.9791411 ,  0.99877301,  0.85380835,\n",
       "        1.        ,  1.        ,  1.        ,  0.86609337,  0.99753998])"
      ]
     },
     "execution_count": 91,
     "metadata": {},
     "output_type": "execute_result"
    }
   ],
   "source": [
    "from sklearn.svm import LinearSVC\n",
    "from sklearn.model_selection import cross_val_score\n",
    "\n",
    "clf = LinearSVC(random_state=0)\n",
    "\n",
    "scores = cross_val_score(clf, X, y, cv=10)\n",
    "print pd.Series(scores).median()\n",
    "scores"
   ]
  },
  {
   "cell_type": "code",
   "execution_count": 94,
   "metadata": {
    "collapsed": false
   },
   "outputs": [
    {
     "name": "stdout",
     "output_type": "stream",
     "text": [
      "0.996314496314\n"
     ]
    },
    {
     "data": {
      "text/plain": [
       "array([ 0.99877301,  0.80245399,  0.9791411 ,  0.99877301,  0.89434889,\n",
       "        1.        ,  0.997543  ,  1.        ,  0.995086  ,  0.99384994])"
      ]
     },
     "execution_count": 94,
     "metadata": {},
     "output_type": "execute_result"
    }
   ],
   "source": [
    "from sklearn.svm import LinearSVC\n",
    "from sklearn.model_selection import cross_val_score\n",
    "\n",
    "clf = LinearSVC(random_state=0)\n",
    "\n",
    "scores = cross_val_score(clf, X, y, cv=10)\n",
    "print pd.Series(scores).median()\n",
    "scores"
   ]
  },
  {
   "cell_type": "code",
   "execution_count": null,
   "metadata": {
    "collapsed": true
   },
   "outputs": [],
   "source": []
  }
 ],
 "metadata": {
  "anaconda-cloud": {},
  "kernelspec": {
   "display_name": "Python [Root]",
   "language": "python",
   "name": "Python [Root]"
  },
  "language_info": {
   "codemirror_mode": {
    "name": "ipython",
    "version": 2
   },
   "file_extension": ".py",
   "mimetype": "text/x-python",
   "name": "python",
   "nbconvert_exporter": "python",
   "pygments_lexer": "ipython2",
   "version": "2.7.12"
  }
 },
 "nbformat": 4,
 "nbformat_minor": 0
}

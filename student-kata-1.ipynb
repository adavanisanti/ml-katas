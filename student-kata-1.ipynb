{
 "cells": [
  {
   "cell_type": "code",
   "execution_count": 1,
   "metadata": {
    "collapsed": true
   },
   "outputs": [],
   "source": [
    "import pandas as pd"
   ]
  },
  {
   "cell_type": "code",
   "execution_count": 79,
   "metadata": {
    "collapsed": false
   },
   "outputs": [],
   "source": [
    "data = pd.read_csv('student.csv', delimiter=';', dtype='str')\n",
    "# 1 school - student's school (binary: 'GP' - Gabriel Pereira or 'MS' - Mousinho da Silveira) \n",
    "# 2 sex - student's sex (binary: 'F' - female or 'M' - male) \n",
    "# 3 age - student's age (numeric: from 15 to 22) \n",
    "# 4 address - student's home address type (binary: 'U' - urban or 'R' - rural) \n",
    "# 5 famsize - family size (binary: 'LE3' - less or equal to 3 or 'GT3' - greater than 3) \n",
    "# 6 Pstatus - parent's cohabitation status (binary: 'T' - living together or 'A' - apart) \n",
    "# 7 Medu - mother's education (numeric: 0 - none, 1 - primary education (4th grade), 2 Ã¢â‚¬â€œ 5th to 9th grade, 3 Ã¢â‚¬â€œ secondary education or 4 Ã¢â‚¬â€œ higher education) \n",
    "# 8 Fedu - father's education (numeric: 0 - none, 1 - primary education (4th grade), 2 Ã¢â‚¬â€œ 5th to 9th grade, 3 Ã¢â‚¬â€œ secondary education or 4 Ã¢â‚¬â€œ higher education) \n",
    "# 9 Mjob - mother's job (nominal: 'teacher', 'health' care related, civil 'services' (e.g. administrative or police), 'at_home' or 'other') \n",
    "# 10 Fjob - father's job (nominal: 'teacher', 'health' care related, civil 'services' (e.g. administrative or police), 'at_home' or 'other') \n",
    "# 11 reason - reason to choose this school (nominal: close to 'home', school 'reputation', 'course' preference or 'other') \n",
    "# 12 guardian - student's guardian (nominal: 'mother', 'father' or 'other') \n",
    "# 13 traveltime - home to school travel time (numeric: 1 - <15 min., 2 - 15 to 30 min., 3 - 30 min. to 1 hour, or 4 - >1 hour) \n",
    "# 14 studytime - weekly study time (numeric: 1 - <2 hours, 2 - 2 to 5 hours, 3 - 5 to 10 hours, or 4 - >10 hours) \n",
    "# 15 failures - number of past class failures (numeric: n if 1<=n<3, else 4) \n",
    "# 16 schoolsup - extra educational support (binary: yes or no) \n",
    "# 17 famsup - family educational support (binary: yes or no) \n",
    "# 18 paid - extra paid classes within the course subject (Math or Portuguese) (binary: yes or no) \n",
    "# 19 activities - extra-curricular activities (binary: yes or no) \n",
    "# 20 nursery - attended nursery school (binary: yes or no) \n",
    "# 21 higher - wants to take higher education (binary: yes or no) \n",
    "# 22 internet - Internet access at home (binary: yes or no) \n",
    "# 23 romantic - with a romantic relationship (binary: yes or no) \n",
    "# 24 famrel - quality of family relationships (numeric: from 1 - very bad to 5 - excellent) \n",
    "# 25 freetime - free time after school (numeric: from 1 - very low to 5 - very high) \n",
    "# 26 goout - going out with friends (numeric: from 1 - very low to 5 - very high) \n",
    "# 27 Dalc - workday alcohol consumption (numeric: from 1 - very low to 5 - very high) \n",
    "# 28 Walc - weekend alcohol consumption (numeric: from 1 - very low to 5 - very high) \n",
    "# 29 health - current health status (numeric: from 1 - very bad to 5 - very good) \n",
    "# 30 absences - number of school absences (numeric: from 0 to 93) \n",
    "# data.head().T"
   ]
  },
  {
   "cell_type": "code",
   "execution_count": 98,
   "metadata": {
    "collapsed": false
   },
   "outputs": [],
   "source": [
    "numeric = ['age','freetime','goout','Dalc','Walc','health','absences','G1','G2','G3']\n",
    "categories = data.columns.difference(numeric).values\n",
    "redundent_categories = ['school_MS', 'sex_M', 'address_R', 'famsize_GT3', 'Pstatus_A', 'schoolsup_no', 'famsup_no', 'activities_no', 'nursery_no', 'paid_no', 'romantic_no', 'internet_no', 'higher_no']\n",
    "categoric_data = pd.get_dummies(data[categories]).drop(redundent_categories, axis=1)\n",
    "from sklearn.preprocessing import normalize\n",
    "numeric_data = data[numeric].astype(int)\n",
    "numeric_data = pd.DataFrame(normalize(numeric_data), columns=numeric_data.columns)\n",
    "X = pd.concat([categoric_data, numeric_data], axis=1)\n",
    "# print X.columns.values\n",
    "y = X['G3']\n",
    "X = X.drop('G3', axis=1)\n",
    "# X"
   ]
  },
  {
   "cell_type": "code",
   "execution_count": 100,
   "metadata": {
    "collapsed": false
   },
   "outputs": [
    {
     "data": {
      "text/plain": [
       "0      0.048537\n",
       "1      0.003783\n",
       "2     -0.094501\n",
       "3     -0.100012\n",
       "4     -0.085106\n",
       "5     -0.003598\n",
       "6     -0.034175\n",
       "7      0.005096\n",
       "8     -0.099761\n",
       "9     -0.100335\n",
       "10    -0.076579\n",
       "11    -0.099010\n",
       "12    -0.032564\n",
       "13    -0.090907\n",
       "14    -0.100065\n",
       "15    -0.088475\n",
       "16    -0.064655\n",
       "17    -0.097089\n",
       "18     0.047069\n",
       "19    -0.020787\n",
       "20    -0.092992\n",
       "21    -0.067241\n",
       "22    -0.080220\n",
       "23    -0.047877\n",
       "24     0.019197\n",
       "25    -0.068844\n",
       "26    -0.047595\n",
       "27    -0.050447\n",
       "28    -0.006262\n",
       "29    -0.022245\n",
       "         ...   \n",
       "365   -0.026046\n",
       "366   -0.030508\n",
       "367    0.135026\n",
       "368   -0.059485\n",
       "369   -0.032047\n",
       "370   -0.125771\n",
       "371   -0.100138\n",
       "372   -0.045545\n",
       "373    0.052490\n",
       "374   -0.066065\n",
       "375   -0.100304\n",
       "376   -0.099932\n",
       "377   -0.037611\n",
       "378   -0.099875\n",
       "379    0.028687\n",
       "380   -0.028900\n",
       "381   -0.046869\n",
       "382   -0.026176\n",
       "383    0.166197\n",
       "384    0.077889\n",
       "385   -0.042148\n",
       "386   -0.047743\n",
       "387    0.231878\n",
       "388    0.005025\n",
       "389    0.174728\n",
       "390    0.044593\n",
       "391   -0.064920\n",
       "392    0.023119\n",
       "393    0.016421\n",
       "394   -0.003248\n",
       "Name: G3, dtype: float64"
      ]
     },
     "execution_count": 100,
     "metadata": {},
     "output_type": "execute_result"
    }
   ],
   "source": [
    "from sklearn.svm import SVR\n",
    "\n",
    "reg = SVR()\n",
    "reg.fit(X,y)\n",
    "reg.predict(X) - y"
   ]
  }
 ],
 "metadata": {
  "anaconda-cloud": {},
  "kernelspec": {
   "display_name": "Python [Root]",
   "language": "python",
   "name": "Python [Root]"
  },
  "language_info": {
   "codemirror_mode": {
    "name": "ipython",
    "version": 2
   },
   "file_extension": ".py",
   "mimetype": "text/x-python",
   "name": "python",
   "nbconvert_exporter": "python",
   "pygments_lexer": "ipython2",
   "version": "2.7.12"
  }
 },
 "nbformat": 4,
 "nbformat_minor": 0
}

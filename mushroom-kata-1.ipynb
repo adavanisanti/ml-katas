{
 "cells": [
  {
   "cell_type": "code",
   "execution_count": 162,
   "metadata": {
    "collapsed": false
   },
   "outputs": [],
   "source": [
    "import pandas as pd\n",
    "\n",
    "data = pd.read_csv('mushroom.csv', header=None)\n",
    "data = data.drop(11, axis=1)\n",
    "data = pd.get_dummies(data)"
   ]
  },
  {
   "cell_type": "code",
   "execution_count": 163,
   "metadata": {
    "collapsed": false
   },
   "outputs": [],
   "source": [
    "y = data['0_e']\n",
    "X = data.drop(['0_e', '0_p'], axis=1)"
   ]
  },
  {
   "cell_type": "code",
   "execution_count": 164,
   "metadata": {
    "collapsed": false
   },
   "outputs": [
    {
     "name": "stdout",
     "output_type": "stream",
     "text": [
      "(6499, 112)\n",
      "(1625, 112)\n",
      "(6499,)\n",
      "(1625,)\n"
     ]
    }
   ],
   "source": [
    "from sklearn.model_selection import train_test_split\n",
    "\n",
    "X_train, X_test, y_train, y_test = train_test_split(\n",
    "     X, y, test_size=0.2, random_state=0)\n",
    "print X_train.shape\n",
    "print X_test.shape\n",
    "print y_train.shape\n",
    "print y_test.shape"
   ]
  },
  {
   "cell_type": "code",
   "execution_count": 165,
   "metadata": {
    "collapsed": false
   },
   "outputs": [
    {
     "data": {
      "text/plain": [
       "LinearSVC(C=1.0, class_weight=None, dual=True, fit_intercept=True,\n",
       "     intercept_scaling=1, loss='squared_hinge', max_iter=1000,\n",
       "     multi_class='ovr', penalty='l2', random_state=None, tol=0.0001,\n",
       "     verbose=0)"
      ]
     },
     "execution_count": 165,
     "metadata": {},
     "output_type": "execute_result"
    }
   ],
   "source": [
    "from sklearn import svm\n",
    "\n",
    "clf = svm.LinearSVC()\n",
    "clf.fit(X_train, y_train)"
   ]
  },
  {
   "cell_type": "code",
   "execution_count": 166,
   "metadata": {
    "collapsed": false
   },
   "outputs": [
    {
     "data": {
      "text/html": [
       "<div>\n",
       "<table border=\"1\" class=\"dataframe\">\n",
       "  <thead>\n",
       "    <tr style=\"text-align: right;\">\n",
       "      <th></th>\n",
       "      <th>1_b</th>\n",
       "      <th>1_c</th>\n",
       "      <th>1_f</th>\n",
       "      <th>1_k</th>\n",
       "      <th>1_s</th>\n",
       "      <th>1_x</th>\n",
       "      <th>2_f</th>\n",
       "      <th>2_g</th>\n",
       "      <th>2_s</th>\n",
       "      <th>2_y</th>\n",
       "      <th>...</th>\n",
       "      <th>21_s</th>\n",
       "      <th>21_v</th>\n",
       "      <th>21_y</th>\n",
       "      <th>22_d</th>\n",
       "      <th>22_g</th>\n",
       "      <th>22_l</th>\n",
       "      <th>22_m</th>\n",
       "      <th>22_p</th>\n",
       "      <th>22_u</th>\n",
       "      <th>22_w</th>\n",
       "    </tr>\n",
       "  </thead>\n",
       "  <tbody>\n",
       "    <tr>\n",
       "      <th>380</th>\n",
       "      <td>0.0</td>\n",
       "      <td>0.0</td>\n",
       "      <td>0.0</td>\n",
       "      <td>0.0</td>\n",
       "      <td>0.0</td>\n",
       "      <td>1.0</td>\n",
       "      <td>0.0</td>\n",
       "      <td>0.0</td>\n",
       "      <td>0.0</td>\n",
       "      <td>1.0</td>\n",
       "      <td>...</td>\n",
       "      <td>1.0</td>\n",
       "      <td>0.0</td>\n",
       "      <td>0.0</td>\n",
       "      <td>0.0</td>\n",
       "      <td>0.0</td>\n",
       "      <td>0.0</td>\n",
       "      <td>0.0</td>\n",
       "      <td>0.0</td>\n",
       "      <td>1.0</td>\n",
       "      <td>0.0</td>\n",
       "    </tr>\n",
       "  </tbody>\n",
       "</table>\n",
       "<p>1 rows × 112 columns</p>\n",
       "</div>"
      ],
      "text/plain": [
       "     1_b  1_c  1_f  1_k  1_s  1_x  2_f  2_g  2_s  2_y  ...   21_s  21_v  21_y  \\\n",
       "380  0.0  0.0  0.0  0.0  0.0  1.0  0.0  0.0  0.0  1.0  ...    1.0   0.0   0.0   \n",
       "\n",
       "     22_d  22_g  22_l  22_m  22_p  22_u  22_w  \n",
       "380   0.0   0.0   0.0   0.0   0.0   1.0   0.0  \n",
       "\n",
       "[1 rows x 112 columns]"
      ]
     },
     "execution_count": 166,
     "metadata": {},
     "output_type": "execute_result"
    }
   ],
   "source": [
    "from sklearn.metrics import confusion_matrix\n",
    "\n",
    "y_pred = clf.predict(X_test)\n",
    "confusion_matrix(y_test, y_pred)\n",
    "\n",
    "X_test[0:1]"
   ]
  },
  {
   "cell_type": "code",
   "execution_count": 167,
   "metadata": {
    "collapsed": false
   },
   "outputs": [],
   "source": [
    "from sklearn.decomposition import PCA\n",
    "\n",
    "pca = PCA(n_components=2)\n",
    "pca.fit(X)\n",
    "X_pca = pca.transform(X)"
   ]
  },
  {
   "cell_type": "code",
   "execution_count": 168,
   "metadata": {
    "collapsed": false
   },
   "outputs": [
    {
     "data": {
      "text/plain": [
       "array([[-1.14550996, -0.3984332 ],\n",
       "       [-1.40184581,  0.5431458 ],\n",
       "       [-1.55302201,  0.30024491],\n",
       "       ..., \n",
       "       [-0.55712335,  0.20562428],\n",
       "       [ 1.34417655, -1.8856584 ],\n",
       "       [-0.51837135,  0.22730996]])"
      ]
     },
     "execution_count": 168,
     "metadata": {},
     "output_type": "execute_result"
    },
    {
     "data": {
      "image/png": "[encoded data removed]",
      "text/plain": [
       "<matplotlib.figure.Figure at 0x11e45de50>"
      ]
     },
     "metadata": {},
     "output_type": "display_data"
    }
   ],
   "source": [
    "import seaborn as sns\n",
    "import matplotlib.pyplot as plt\n",
    "%matplotlib inline\n",
    "plt.plot(X_pca)\n",
    "X_pca"
   ]
  },
  {
   "cell_type": "code",
   "execution_count": 169,
   "metadata": {
    "collapsed": false
   },
   "outputs": [
    {
     "data": {
      "text/plain": [
       "array([[773,   0],\n",
       "       [  0, 852]])"
      ]
     },
     "execution_count": 169,
     "metadata": {},
     "output_type": "execute_result"
    }
   ],
   "source": [
    "from sklearn.decomposition import PCA\n",
    "\n",
    "pca = PCA(n_components=X.shape[1] / 48)\n",
    "pca.fit(X)\n",
    "X_pca = pca.transform(X)\n",
    "\n",
    "X_train, X_test, y_train, y_test = train_test_split(\n",
    "     X, y, test_size=0.2, random_state=0)\n",
    "\n",
    "from sklearn import svm\n",
    "\n",
    "clf = svm.LinearSVC()\n",
    "clf.fit(X_train, y_train)\n",
    "\n",
    "y_pred = clf.predict(X_test)\n",
    "confusion_matrix(y_test, y_pred)"
   ]
  },
  {
   "cell_type": "code",
   "execution_count": 219,
   "metadata": {
    "collapsed": false
   },
   "outputs": [
    {
     "name": "stdout",
     "output_type": "stream",
     "text": [
      "(112,)\n",
      "(8124, 112)\n",
      "count    112.000000\n",
      "mean       0.008929\n",
      "std        0.020613\n",
      "min        0.000000\n",
      "25%        0.000432\n",
      "50%        0.001798\n",
      "75%        0.008620\n",
      "max        0.173765\n",
      "dtype: float64\n",
      "[  4.51092171e-03   1.84589172e-04   1.37059483e-03   2.54455031e-04\n",
      "   1.87581162e-04   7.71966081e-04   3.32066068e-03   3.47064461e-04\n",
      "   3.87878390e-03   1.10589175e-03   3.26309362e-03   5.23847226e-04\n",
      "   9.20993920e-04   1.58090271e-03   1.10402405e-03   1.18486918e-03\n",
      "   1.75448376e-04   9.93271480e-05   1.91202323e-03   4.40841615e-03\n",
      "   2.68307992e-02   3.20922678e-02   9.71144536e-03   1.09501554e-02\n",
      "   6.39056127e-02   9.02093818e-03   8.45355614e-04   1.73764856e-01\n",
      "   1.32619145e-02   3.15269997e-03   2.44513672e-03   4.15669666e-04\n",
      "   1.45931706e-04   1.85358812e-02   1.40427644e-02   6.46625134e-02\n",
      "   4.90837372e-02   5.46439968e-02   1.01755811e-04   1.38951634e-03\n",
      "   1.15088854e-03   4.80554119e-05   1.77342167e-03   0.00000000e+00\n",
      "   9.41809610e-04   1.95956370e-03   3.92260729e-04   1.96232541e-03\n",
      "   1.22244178e-04   1.11389954e-02   7.14017958e-03   3.35905683e-03\n",
      "   4.54759366e-02   1.26421697e-02   1.99263249e-04   5.03541895e-03\n",
      "   5.24896495e-02   9.78599562e-03   3.20881838e-03   2.46248849e-03\n",
      "   3.04046168e-04   0.00000000e+00   1.80395961e-03   1.79039341e-03\n",
      "   4.37701394e-04   1.31796322e-03   6.98949002e-03   2.67566206e-04\n",
      "   0.00000000e+00   5.30875943e-04   3.53659501e-04   1.20798998e-03\n",
      "   1.79219922e-03   4.10751536e-04   9.77434028e-04   5.10716071e-03\n",
      "   1.04602164e-03   0.00000000e+00   2.34756118e-06   2.99982872e-04\n",
      "   1.22383089e-03   2.67256368e-04   1.13028562e-03   5.54875872e-03\n",
      "   8.78895454e-03   8.56339475e-03   9.23448713e-04   2.12219469e-02\n",
      "   5.76762583e-04   2.46298050e-02   0.00000000e+00   3.12228654e-02\n",
      "   7.78500645e-03   1.27476298e-02   0.00000000e+00   9.79473613e-03\n",
      "   9.90741262e-04   2.04599377e-02   0.00000000e+00   1.74544366e-04\n",
      "   1.45137763e-03   2.90134462e-03   1.90783141e-03   2.48113799e-02\n",
      "   4.49343273e-03   8.29060848e-03   1.00035491e-02   8.23158010e-04\n",
      "   7.08096216e-03   3.45492289e-03   1.07209387e-02   1.97410168e-03]\n",
      "(8124, 5)\n"
     ]
    }
   ],
   "source": [
    "from sklearn.tree import DecisionTreeClassifier\n",
    "from sklearn.ensemble import RandomForestClassifier\n",
    "\n",
    "import numpy as np\n",
    "\n",
    "#clf = DecisionTreeClassifier()\n",
    "clf = RandomForestClassifier(n_estimators=100)\n",
    "\n",
    "clf.fit(X, y)\n",
    "print clf.feature_importances_.shape\n",
    "print X.shape\n",
    "print pd.Series(clf.feature_importances_).describe()\n",
    "print clf.feature_importances_\n",
    "X_important = np.where(clf.feature_importances_ >= 0.05)\n",
    "print X[X_important[0]].shape\n",
    "# print X_important"
   ]
  },
  {
   "cell_type": "code",
   "execution_count": 220,
   "metadata": {
    "collapsed": false
   },
   "outputs": [
    {
     "data": {
      "text/plain": [
       "array([[755,  18],\n",
       "       [ 59, 793]])"
      ]
     },
     "execution_count": 220,
     "metadata": {},
     "output_type": "execute_result"
    }
   ],
   "source": [
    "X_train, X_test, y_train, y_test = train_test_split(\n",
    "     X[X_important[0]], y, test_size=0.2, random_state=0)\n",
    "\n",
    "from sklearn import svm\n",
    "\n",
    "clf = svm.LinearSVC()\n",
    "clf.fit(X_train, y_train)\n",
    "\n",
    "y_pred = clf.predict(X_test)\n",
    "confusion_matrix(y_test, y_pred)\n"
   ]
  },
  {
   "cell_type": "code",
   "execution_count": null,
   "metadata": {
    "collapsed": true
   },
   "outputs": [],
   "source": []
  }
 ],
 "metadata": {
  "anaconda-cloud": {},
  "kernelspec": {
   "display_name": "Python [Root]",
   "language": "python",
   "name": "Python [Root]"
  },
  "language_info": {
   "codemirror_mode": {
    "name": "ipython",
    "version": 2
   },
   "file_extension": ".py",
   "mimetype": "text/x-python",
   "name": "python",
   "nbconvert_exporter": "python",
   "pygments_lexer": "ipython2",
   "version": "2.7.12"
  }
 },
 "nbformat": 4,
 "nbformat_minor": 0
}

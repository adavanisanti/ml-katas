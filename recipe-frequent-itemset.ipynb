{
 "cells": [
  {
   "cell_type": "code",
   "execution_count": 38,
   "metadata": {
    "collapsed": false
   },
   "outputs": [],
   "source": [
    "import json\n",
    "with open('cookbookdata_part3_parsed.json') as fp:\n",
    "    data = json.load(fp)\n",
    "\n",
    "\n",
    "    "
   ]
  },
  {
   "cell_type": "code",
   "execution_count": 39,
   "metadata": {
    "collapsed": false
   },
   "outputs": [],
   "source": [
    "recipe = data[0]\n",
    "recipes = [filter(lambda item: item != '', map(lambda item: item[2].lower(), recipe['individualIngredient'])) for recipe in data]\n"
   ]
  },
  {
   "cell_type": "code",
   "execution_count": 40,
   "metadata": {
    "collapsed": false
   },
   "outputs": [],
   "source": [
    "import numpy as np\n",
    "\n",
    "ingredients = set()\n",
    "for recipe in recipes:\n",
    "    for ingredient in recipe:\n",
    "        ingredients.add(ingredient)\n",
    "        \n",
    "ingredients = list(ingredients)"
   ]
  },
  {
   "cell_type": "code",
   "execution_count": 80,
   "metadata": {
    "collapsed": true
   },
   "outputs": [],
   "source": [
    "import pandas as pd\n",
    "\n",
    "# df = pd.DataFrame([], columns = ingredients)\n",
    "df = pd.DataFrame()"
   ]
  },
  {
   "cell_type": "code",
   "execution_count": 81,
   "metadata": {
    "collapsed": false
   },
   "outputs": [],
   "source": [
    "for index, recipe in enumerate(recipes[0:25]):\n",
    "    for ingredient in recipe:\n",
    "        df.loc[index, ingredient] = 1\n",
    "    \n",
    "        "
   ]
  },
  {
   "cell_type": "code",
   "execution_count": 82,
   "metadata": {
    "collapsed": false
   },
   "outputs": [],
   "source": [
    "# df.fillna(0, inplace=True)"
   ]
  },
  {
   "cell_type": "code",
   "execution_count": 83,
   "metadata": {
    "collapsed": false
   },
   "outputs": [
    {
     "name": "stdout",
     "output_type": "stream",
     "text": [
      "<class 'pandas.core.frame.DataFrame'>\n",
      "Int64Index: 24 entries, 0 to 24\n",
      "Data columns (total 97 columns):\n",
      "soft shortening                                     1 non-null float64\n",
      "sugar                                               6 non-null float64\n",
      "salt                                                6 non-null float64\n",
      "flour                                               4 non-null float64\n",
      "cream of tartar                                     1 non-null float64\n",
      "baking soda                                         3 non-null float64\n",
      "butter                                              3 non-null float64\n",
      "pecans                                              1 non-null float64\n",
      "vanilla                                             6 non-null float64\n",
      "crisco oil                                          1 non-null float64\n",
      "molasses                                            2 non-null float64\n",
      "cloves                                              1 non-null float64\n",
      "ginger                                              1 non-null float64\n",
      "cinnamon                                            4 non-null float64\n",
      "granulated sugar                                    1 non-null float64\n",
      "chopped dates                                       1 non-null float64\n",
      "coconut                                             1 non-null float64\n",
      "chopped nuts                                        4 non-null float64\n",
      "sq. semi sweet chocolate, melted                    1 non-null float64\n",
      "packed brown sugar                                  1 non-null float64\n",
      "shortening                                          1 non-null float64\n",
      "all-purpose flour                                   2 non-null float64\n",
      "ground cinnamon                                     1 non-null float64\n",
      "ground ginger                                       1 non-null float64\n",
      "ground cloves                                       1 non-null float64\n",
      "salt granulated sugar                               1 non-null float64\n",
      "milk                                                2 non-null float64\n",
      "oleo                                                2 non-null float64\n",
      "chocolate chips                                     1 non-null float64\n",
      "german chocolate cake mix                           1 non-null float64\n",
      "commercial sugar cookie dough                       1 non-null float64\n",
      "crushed pineapple                                   1 non-null float64\n",
      "cans mandarin oranges, drained                      1 non-null float64\n",
      "bananas                                             1 non-null float64\n",
      "cream cheese                                        2 non-null float64\n",
      "powdered sugar quantity of strawberries and nuts    1 non-null float64\n",
      "cans mandarin orange sections                       1 non-null float64\n",
      "pkg. orange jell-o                                  1 non-null float64\n",
      "hot water                                           1 non-null float64\n",
      "orange sherbet                                      1 non-null float64\n",
      "cooked rice                                         1 non-null float64\n",
      "firmly packed brown sugar                           1 non-null float64\n",
      "chopped walnuts                                     1 non-null float64\n",
      "peach chunks or                                     1 non-null float64\n",
      "can sliced peaches                                  1 non-null float64\n",
      "nutmeg                                              1 non-null float64\n",
      "margarine                                           5 non-null float64\n",
      "graham cracker crumbs                               1 non-null float64\n",
      "cool whip                                           2 non-null float64\n",
      "powdered sugar                                      1 non-null float64\n",
      "pkg. instant pistachio pudding mix                  1 non-null float64\n",
      "flavored jell-o                                     1 non-null float64\n",
      "unflavored knox gelatine                            1 non-null float64\n",
      "boiling water                                       1 non-null float64\n",
      "boiling water, dissolve gelatine in                 1 non-null float64\n",
      "cold water                                          1 non-null float64\n",
      "bread, cut in cubes                                 1 non-null float64\n",
      "brown sugar                                         2 non-null float64\n",
      "butter soft                                         1 non-null float64\n",
      "orange juice                                        2 non-null float64\n",
      "cornstarch                                          1 non-null float64\n",
      "diced, peeled apples                                1 non-null float64\n",
      "water                                               1 non-null float64\n",
      "butter or margarine                                 2 non-null float64\n",
      "packaged pre-cooked rice                            1 non-null float64\n",
      "whipping cream or                                   1 non-null float64\n",
      "can crushed pineapple                               1 non-null float64\n",
      "pkg. nuts                                           1 non-null float64\n",
      "jar red cherries                                    1 non-null float64\n",
      "crushed vanilla wafers                              1 non-null float64\n",
      "ice cream                                           1 non-null float64\n",
      "unsweetened chocolate                               1 non-null float64\n",
      "beaten egg yolks                                    1 non-null float64\n",
      "sifted powdered sugar                               1 non-null float64\n",
      "whites                                              1 non-null float64\n",
      "light brown sugar, packed                           1 non-null float64\n",
      "plain flour                                         1 non-null float64\n",
      "baking powder                                       1 non-null float64\n",
      "chopped pecans                                      1 non-null float64\n",
      "confectioners sugar                                 3 non-null float64\n",
      "peanut butter                                       2 non-null float64\n",
      "hershey bar                                         1 non-null float64\n",
      "white karo                                          1 non-null float64\n",
      "shelled raw peanuts                                 1 non-null float64\n",
      "canned milk                                         1 non-null float64\n",
      "jar peanut butter                                   1 non-null float64\n",
      "marshmallow creme                                   1 non-null float64\n",
      "box powdered sugar                                  1 non-null float64\n",
      "softened cream cheese candy paste color             1 non-null float64\n",
      "candy flavoring granulated sugar                    1 non-null float64\n",
      "eagle brand milk                                    1 non-null float64\n",
      "white karo syrup                                    1 non-null float64\n",
      "sliced peaches                                      1 non-null float64\n",
      "fruit cocktail                                      1 non-null float64\n",
      "chunk pineapple                                     1 non-null float64\n",
      "fresh strawberries, cut in half                     1 non-null float64\n",
      "vanilla pudding cook 'n serve                       1 non-null float64\n",
      "dtypes: float64(97)\n",
      "memory usage: 18.4 KB\n"
     ]
    }
   ],
   "source": [
    "df.info()"
   ]
  },
  {
   "cell_type": "code",
   "execution_count": null,
   "metadata": {
    "collapsed": true
   },
   "outputs": [],
   "source": []
  }
 ],
 "metadata": {
  "kernelspec": {
   "display_name": "Python 2",
   "language": "python",
   "name": "python2"
  },
  "language_info": {
   "codemirror_mode": {
    "name": "ipython",
    "version": 2
   },
   "file_extension": ".py",
   "mimetype": "text/x-python",
   "name": "python",
   "nbconvert_exporter": "python",
   "pygments_lexer": "ipython2",
   "version": "2.7.11"
  }
 },
 "nbformat": 4,
 "nbformat_minor": 0
}

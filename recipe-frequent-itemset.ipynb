{
 "cells": [
  {
   "cell_type": "code",
   "execution_count": 2,
   "metadata": {
    "collapsed": false
   },
   "outputs": [],
   "source": [
    "import json\n",
    "with open('recipedata_sample.json') as fp:\n",
    "    data = json.load(fp)   "
   ]
  },
  {
   "cell_type": "code",
   "execution_count": 3,
   "metadata": {
    "collapsed": false
   },
   "outputs": [],
   "source": [
    "recipes = [str.join(\"#\", filter(lambda item: item != '', map(lambda item: item[2].lower(), recipe['individualIngredient']))) for recipe in data]"
   ]
  },
  {
   "cell_type": "code",
   "execution_count": 27,
   "metadata": {
    "collapsed": false
   },
   "outputs": [
    {
     "data": {
      "text/plain": [
       "604"
      ]
     },
     "execution_count": 27,
     "metadata": {},
     "output_type": "execute_result"
    }
   ],
   "source": [
    "import pandas as pd\n",
    "\n",
    "from sklearn.feature_extraction.text import TfidfVectorizer\n",
    "\n",
    "vec = TfidfVectorizer(token_pattern=\"[^#]+\", min_df=2)\n",
    "matrix = vec.fit(recipes).transform(recipes)\n",
    "\n",
    "df = pd.DataFrame(matrix.todense(), columns=vec.get_feature_names())\n",
    "\n",
    "len(vec.get_feature_names())"
   ]
  },
  {
   "cell_type": "code",
   "execution_count": 29,
   "metadata": {
    "collapsed": false,
    "scrolled": true
   },
   "outputs": [
    {
     "data": {
      "text/plain": [
       "sugar                                            61.959728\n",
       "salt                                             51.698832\n",
       "flour                                            47.950488\n",
       "milk                                             43.864452\n",
       "water                                            35.638641\n",
       "butter                                           34.007765\n",
       "vanilla                                          30.026534\n",
       "baking powder                                    25.987423\n",
       "brown sugar                                      21.079546\n",
       "baking soda                                      20.127948\n",
       "margarine                                        19.381579\n",
       "sour cream                                       19.029477\n",
       "pepper                                           18.582552\n",
       "oil                                              18.460444\n",
       "vinegar                                          16.829814\n",
       "cinnamon                                         16.814078\n",
       "chopped onion                                    16.797802\n",
       "lemon juice                                      16.146999\n",
       "mayonnaise                                       15.472493\n",
       "beaten                                           14.893527\n",
       "cream of mushroom soup                           14.616908\n",
       "shortening                                       13.604336\n",
       "soda                                             13.128853\n",
       "cream cheese                                     13.084513\n",
       "butter or margarine                              12.815270\n",
       "onion, chopped                                   12.200128\n",
       "olive oil                                        12.043321\n",
       "cool whip                                        11.067953\n",
       "onion                                             9.576632\n",
       "all-purpose flour                                 9.482584\n",
       "                                                   ...    \n",
       "chicken bouillon                                  0.943515\n",
       "quick oatmeal                                     0.938843\n",
       "chinese vegetables, drained                       0.933163\n",
       "green pepper, cut into strips                     0.931014\n",
       "cans tomato sauce                                 0.929448\n",
       "carrot, chopped                                   0.928279\n",
       "pizza sauce                                       0.921823\n",
       "wheat germ                                        0.915419\n",
       "dairy sour cream                                  0.914578\n",
       "pepper, diced                                     0.911164\n",
       "crushed seasoned croutons                         0.909580\n",
       "tabasco                                           0.904813\n",
       "spaghetti sauce mix                               0.904104\n",
       "water chestnuts, sliced                           0.899955\n",
       "zucchini                                          0.897795\n",
       "chopped carrots                                   0.896664\n",
       "green olives                                      0.896141\n",
       "chicken bouillon granules                         0.891201\n",
       "can mushrooms, drained                            0.887914\n",
       "melted oleo                                       0.877336\n",
       "butter beans                                      0.842959\n",
       "quaker oats quick or old fashioned , uncooked     0.828243\n",
       "can water                                         0.819806\n",
       "whole milk                                        0.818651\n",
       "diced onions                                      0.817885\n",
       "diced potatoes                                    0.814478\n",
       "sage                                              0.803977\n",
       "dried oregano, crushed                            0.781509\n",
       "cut into                                          0.777119\n",
       "monosodium glutamate                              0.676356\n",
       "dtype: float64"
      ]
     },
     "execution_count": 29,
     "metadata": {},
     "output_type": "execute_result"
    }
   ],
   "source": [
    "df.sum().sort_values(ascending=False)"
   ]
  },
  {
   "cell_type": "code",
   "execution_count": null,
   "metadata": {
    "collapsed": true
   },
   "outputs": [],
   "source": []
  }
 ],
 "metadata": {
  "anaconda-cloud": {},
  "kernelspec": {
   "display_name": "Python [default]",
   "language": "python",
   "name": "python2"
  },
  "language_info": {
   "codemirror_mode": {
    "name": "ipython",
    "version": 2
   },
   "file_extension": ".py",
   "mimetype": "text/x-python",
   "name": "python",
   "nbconvert_exporter": "python",
   "pygments_lexer": "ipython2",
   "version": "2.7.12"
  }
 },
 "nbformat": 4,
 "nbformat_minor": 0
}

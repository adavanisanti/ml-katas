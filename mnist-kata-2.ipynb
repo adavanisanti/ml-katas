{
 "cells": [
  {
   "cell_type": "code",
   "execution_count": 1,
   "metadata": {
    "collapsed": false
   },
   "outputs": [],
   "source": [
    "from sklearn.datasets import fetch_mldata\n",
    "mnist = fetch_mldata('MNIST original')"
   ]
  },
  {
   "cell_type": "code",
   "execution_count": 2,
   "metadata": {
    "collapsed": false
   },
   "outputs": [],
   "source": [
    "import pandas as pd\n",
    "mnist.target = pd.get_dummies(mnist.target).astype(int).values\n",
    "mnist.data = mnist.data / 255.0 # normalized the input"
   ]
  },
  {
   "cell_type": "code",
   "execution_count": 3,
   "metadata": {
    "collapsed": false
   },
   "outputs": [],
   "source": [
    "from sklearn.model_selection import train_test_split\n",
    "\n",
    "X_train, X_test, y_train, y_test = train_test_split(mnist.data, mnist.target, test_size=0.4, random_state=0)"
   ]
  },
  {
   "cell_type": "code",
   "execution_count": 4,
   "metadata": {
    "collapsed": false
   },
   "outputs": [
    {
     "name": "stdout",
     "output_type": "stream",
     "text": [
      "(42000L, 784L)\n",
      "(28000L, 784L)\n",
      "(42000L, 10L)\n",
      "<type 'numpy.ndarray'>\n"
     ]
    }
   ],
   "source": [
    "print X_train.shape\n",
    "print X_test.shape\n",
    "print y_train.shape\n",
    "print type(X_train)"
   ]
  },
  {
   "cell_type": "code",
   "execution_count": 38,
   "metadata": {
    "collapsed": false,
    "scrolled": true
   },
   "outputs": [
    {
     "name": "stdout",
     "output_type": "stream",
     "text": [
      "Train on 42000 samples, validate on 28000 samples\n",
      "Epoch 1/10\n",
      "42000/42000 [==============================] - 2s - loss: 0.4803 - acc: 0.8677 - val_loss: 0.3069 - val_acc: 0.9106\n",
      "Epoch 2/10\n",
      "42000/42000 [==============================] - 2s - loss: 0.2745 - acc: 0.9207 - val_loss: 0.2557 - val_acc: 0.9247\n",
      "Epoch 3/10\n",
      "42000/42000 [==============================] - 2s - loss: 0.2325 - acc: 0.9337 - val_loss: 0.2296 - val_acc: 0.9334\n",
      "Epoch 4/10\n",
      "42000/42000 [==============================] - 2s - loss: 0.2036 - acc: 0.9415 - val_loss: 0.2168 - val_acc: 0.9379\n",
      "Epoch 5/10\n",
      "42000/42000 [==============================] - 2s - loss: 0.1838 - acc: 0.9467 - val_loss: 0.1936 - val_acc: 0.9429\n",
      "Epoch 6/10\n",
      "42000/42000 [==============================] - 2s - loss: 0.1667 - acc: 0.9509 - val_loss: 0.1835 - val_acc: 0.9452\n",
      "Epoch 7/10\n",
      "42000/42000 [==============================] - 2s - loss: 0.1527 - acc: 0.9547 - val_loss: 0.1737 - val_acc: 0.9496\n",
      "Epoch 8/10\n",
      "42000/42000 [==============================] - 2s - loss: 0.1406 - acc: 0.9594 - val_loss: 0.1625 - val_acc: 0.9519\n",
      "Epoch 9/10\n",
      "42000/42000 [==============================] - 2s - loss: 0.1314 - acc: 0.9627 - val_loss: 0.1582 - val_acc: 0.9530\n",
      "Epoch 10/10\n",
      "42000/42000 [==============================] - 2s - loss: 0.1226 - acc: 0.9649 - val_loss: 0.1489 - val_acc: 0.9556\n"
     ]
    },
    {
     "data": {
      "text/plain": [
       "<keras.callbacks.History at 0x4d3312e8>"
      ]
     },
     "execution_count": 38,
     "metadata": {},
     "output_type": "execute_result"
    }
   ],
   "source": [
    "from keras.models import Sequential\n",
    "from keras.layers import Dense, Activation, Dropout\n",
    "\n",
    "model = Sequential([\n",
    "    Dense(32, input_dim=784),\n",
    "    Activation('relu'),     \n",
    "    Dense(10),   \n",
    "    Activation('softmax'),\n",
    "])\n",
    "\n",
    "from keras import optimizers\n",
    "optimizer = optimizers.SGD(lr=0.01, momentum=0.5, decay=0.0, nesterov=False)  # added momentum\n",
    "model.compile(optimizer=optimizer,\n",
    "              loss='categorical_crossentropy',\n",
    "              metrics=['accuracy'])\n",
    "\n",
    "model.fit(X_train, y_train, nb_epoch=10, batch_size=16, validation_data=(X_test, y_test)) # added validation testing, reduced batch size"
   ]
  },
  {
   "cell_type": "code",
   "execution_count": null,
   "metadata": {
    "collapsed": true
   },
   "outputs": [],
   "source": []
  }
 ],
 "metadata": {
  "anaconda-cloud": {},
  "kernelspec": {
   "display_name": "Python [conda root]",
   "language": "python",
   "name": "conda-root-py"
  },
  "language_info": {
   "codemirror_mode": {
    "name": "ipython",
    "version": 2
   },
   "file_extension": ".py",
   "mimetype": "text/x-python",
   "name": "python",
   "nbconvert_exporter": "python",
   "pygments_lexer": "ipython2",
   "version": "2.7.12"
  }
 },
 "nbformat": 4,
 "nbformat_minor": 1
}
